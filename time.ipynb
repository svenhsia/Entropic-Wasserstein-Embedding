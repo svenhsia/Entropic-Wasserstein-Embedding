{
 "cells": [
  {
   "cell_type": "code",
   "execution_count": 3,
   "metadata": {},
   "outputs": [],
   "source": [
    "import os\n",
    "import numpy as np\n",
    "import matplotlib.pyplot as plt\n",
    "\n",
    "%matplotlib inline"
   ]
  },
  {
   "cell_type": "code",
   "execution_count": 48,
   "metadata": {},
   "outputs": [],
   "source": [
    "def detect_anomaly(l):\n",
    "    l_diff = [l[i]-l[i-1] for i in range(1, len(l))]\n",
    "    for i in range(1, len(l_diff)):\n",
    "        if l_diff[i] > 10 * l_diff[i-1]:\n",
    "            return False\n",
    "    return True"
   ]
  },
  {
   "cell_type": "code",
   "execution_count": 57,
   "metadata": {},
   "outputs": [],
   "source": [
    "def adjust(l):\n",
    "    l_diff = [l[i]-l[i-1] for i in range(1, len(l))]\n",
    "    for i in range(1, len(l_diff)):\n",
    "        if l_diff[i] > 10 * l_diff[i-1]:\n",
    "            l_diff[i] = (sum(l_diff[i-2:i]) + sum(l_diff[i+1:i+3])) / 4\n",
    "    l_new = [l[0] for _ in l]\n",
    "    for i in range(1, len(l)):\n",
    "        l_new[i] = l_new[i-1] + l_diff[i-1]\n",
    "    return l_new"
   ]
  },
  {
   "cell_type": "code",
   "execution_count": 67,
   "metadata": {},
   "outputs": [],
   "source": [
    "anomalies = []\n",
    "for history_file in os.listdir('./results'):\n",
    "    if not history_file.endswith('.npz'):\n",
    "        continue\n",
    "    history = np.load('./results/{}'.format(history_file))\n",
    "    if 'time' in history:\n",
    "        time_history = history['time']\n",
    "        if not detect_anomaly(time_history):\n",
    "            anomalies.append(history_file)"
   ]
  },
  {
   "cell_type": "code",
   "execution_count": 63,
   "metadata": {},
   "outputs": [
    {
     "data": {
      "image/png": "[encoded data removed]",
      "text/plain": [
       "<Figure size 432x288 with 1 Axes>"
      ]
     },
     "metadata": {
      "needs_background": "light"
     },
     "output_type": "display_data"
    },
    {
     "data": {
      "image/png": "[encoded data removed]",
      "text/plain": [
       "<Figure size 432x288 with 1 Axes>"
      ]
     },
     "metadata": {
      "needs_background": "light"
     },
     "output_type": "display_data"
    }
   ],
   "source": [
    "for history_file in anomalies:\n",
    "    history = np.load('./results/{}'.format(history_file))\n",
    "    plt.plot(history['time'])\n",
    "#     plt.show()\n",
    "    plt.plot(adjust(history['time']))\n",
    "    plt.show()"
   ]
  },
  {
   "cell_type": "code",
   "execution_count": 68,
   "metadata": {},
   "outputs": [
    {
     "data": {
      "text/plain": [
       "[]"
      ]
     },
     "execution_count": 68,
     "metadata": {},
     "output_type": "execute_result"
    }
   ],
   "source": [
    "anomalies"
   ]
  },
  {
   "cell_type": "code",
   "execution_count": null,
   "metadata": {},
   "outputs": [],
   "source": []
  },
  {
   "cell_type": "code",
   "execution_count": 66,
   "metadata": {},
   "outputs": [
    {
     "data": {
      "text/plain": [
       "['scale_free_64_1_WassR2_5_old.npz', 'scale_free_64_3_WassR2_40_old.npz']"
      ]
     },
     "execution_count": 66,
     "metadata": {},
     "output_type": "execute_result"
    }
   ],
   "source": [
    "anomalies"
   ]
  },
  {
   "cell_type": "code",
   "execution_count": 65,
   "metadata": {},
   "outputs": [],
   "source": [
    "for history_file in ['scale_free_64_1_WassR2_5.npz', 'scale_free_64_3_WassR2_40.npz']:\n",
    "    history = np.load('./results/{}'.format(history_file)"
   ]
  },
  {
   "cell_type": "code",
   "execution_count": 69,
   "metadata": {},
   "outputs": [],
   "source": [
    "history_file = 'scale_free_64_1_WassR2_5.npz'\n",
    "history = np.load('./results/{}'.format(history_file))"
   ]
  },
  {
   "cell_type": "code",
   "execution_count": 73,
   "metadata": {
    "scrolled": true
   },
   "outputs": [
    {
     "data": {
      "text/plain": [
       "array([1.3752405 , 1.40852536, 1.64322992, ..., 3.58778882, 3.02345482,\n",
       "       4.05996455])"
      ]
     },
     "execution_count": 73,
     "metadata": {},
     "output_type": "execute_result"
    }
   ],
   "source": [
    "history['embed_distances']"
   ]
  },
  {
   "cell_type": "code",
   "execution_count": null,
   "metadata": {},
   "outputs": [],
   "source": []
  }
 ],
 "metadata": {
  "kernelspec": {
   "display_name": "Python 3",
   "language": "python",
   "name": "python3"
  },
  "language_info": {
   "codemirror_mode": {
    "name": "ipython",
    "version": 3
   },
   "file_extension": ".py",
   "mimetype": "text/x-python",
   "name": "python",
   "nbconvert_exporter": "python",
   "pygments_lexer": "ipython3",
   "version": "3.6.8"
  }
 },
 "nbformat": 4,
 "nbformat_minor": 2
}
